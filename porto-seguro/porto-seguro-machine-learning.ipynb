{
 "cells": [
  {
   "cell_type": "markdown",
   "metadata": {},
   "source": [
    "## Machine Learning"
   ]
  },
  {
   "cell_type": "code",
   "execution_count": 1,
   "metadata": {},
   "outputs": [
    {
     "name": "stderr",
     "output_type": "stream",
     "text": [
      "/opt/conda/lib/python3.6/site-packages/sklearn/cross_validation.py:44: DeprecationWarning: This module was deprecated in version 0.18 in favor of the model_selection module into which all the refactored classes and functions are moved. Also note that the interface of the new CV iterators are different from that of this module. This module will be removed in 0.20.\n",
      "  \"This module will be removed in 0.20.\", DeprecationWarning)\n"
     ]
    }
   ],
   "source": [
    "import pandas as pd\n",
    "import numpy as np\n",
    "import xgboost as xgb\n",
    "from sklearn.model_selection import StratifiedKFold\n",
    "import gc\n"
   ]
  },
  {
   "cell_type": "code",
   "execution_count": 12,
   "metadata": {},
   "outputs": [
    {
     "name": "stdout",
     "output_type": "stream",
     "text": [
      "loading files...\n",
      "files loaded...\n"
     ]
    }
   ],
   "source": [
    "print('loading files...')\n",
    "train = pd.read_csv('../../data/train_prepared.csv') #train_prepared  na_values=-1\n",
    "test = pd.read_csv('../../data/test_prepared.csv')\n",
    "\n",
    "print('files loaded...')"
   ]
  },
  {
   "cell_type": "code",
   "execution_count": 3,
   "metadata": {},
   "outputs": [
    {
     "name": "stdout",
     "output_type": "stream",
     "text": [
      "Memory consumed by training set  :   217.9732208251953 MB\n",
      "Memory consumed by test set      :   320.1474151611328 MB\n"
     ]
    }
   ],
   "source": [
    "#--- memory consumed by train dataframe ---\n",
    "mem = train.memory_usage(index=True).sum()\n",
    "print(\"Memory consumed by training set  :   {} MB\" .format(mem/ 1024**2))\n",
    " \n",
    "#--- memory consumed by test dataframe ---\n",
    "mem = test.memory_usage(index=True).sum()\n",
    "print(\"Memory consumed by test set      :   {} MB\" .format(mem/ 1024**2))"
   ]
  },
  {
   "cell_type": "code",
   "execution_count": 4,
   "metadata": {
    "collapsed": true
   },
   "outputs": [],
   "source": [
    "def change_datatype(df):\n",
    "    float_cols = list(df.select_dtypes(include=['int']).columns)\n",
    "    for col in float_cols:\n",
    "        if ((np.max(df[col]) <= 127) and(np.min(df[col] >= -128))):\n",
    "            df[col] = df[col].astype(np.int8)\n",
    "        elif ((np.max(df[col]) <= 32767) and(np.min(df[col] >= -32768))):\n",
    "            df[col] = df[col].astype(np.int16)\n",
    "        elif ((np.max(df[col]) <= 2147483647) and(np.min(df[col] >= -2147483648))):\n",
    "            df[col] = df[col].astype(np.int32)\n",
    "        else:\n",
    "            df[col] = df[col].astype(np.int64)\n",
    "\n",
    "change_datatype(train)\n",
    "change_datatype(test) "
   ]
  },
  {
   "cell_type": "code",
   "execution_count": 5,
   "metadata": {},
   "outputs": [],
   "source": [
    "#--- Converting columns from 'float64' to 'float32' ---\n",
    "def change_datatype_float(df):\n",
    "    float_cols = list(df.select_dtypes(include=['float']).columns)\n",
    "    for col in float_cols:\n",
    "        df[col] = df[col].astype(np.float32)\n",
    "        \n",
    "change_datatype_float(train)\n",
    "change_datatype_float(test)"
   ]
  },
  {
   "cell_type": "code",
   "execution_count": 6,
   "metadata": {},
   "outputs": [
    {
     "name": "stdout",
     "output_type": "stream",
     "text": [
      "Memory consumed by training set  :   54.493 MB\n",
      "Memory consumed by test set      :   80.888 MB\n"
     ]
    }
   ],
   "source": [
    "#--- memory consumed by train dataframe ---\n",
    "mem = train.memory_usage(index=True).sum()\n",
    "print(\"Memory consumed by training set  :   {:.3f} MB\" .format(mem/ 1024**2))\n",
    " \n",
    "#--- memory consumed by test dataframe ---\n",
    "mem = test.memory_usage(index=Ttrainrue).sum()\n",
    "print(\"Memory consumed by test set      :   {:.3f} MB\" .format(mem/ 1024**2))"
   ]
  },
  {
   "cell_type": "code",
   "execution_count": null,
   "metadata": {},
   "outputs": [],
   "source": [
    "#test.drop(['ps_car_03_cat', 'ps_car_05_cat'], inplace=True, axis=1)\n",
    "\n",
    "col_to_drop = train.columns[train.columns.str.startswith('ps_calc_')]\n",
    "train = train.drop(col_to_drop, axis=1)  \n",
    "test = test.drop(col_to_drop, axis=1)  \n",
    "\n",
    "for c in train.select_dtypes(include=['float64']).columns:\n",
    "    train[c]=train[c].astype(np.float32)\n",
    "    test[c]=test[c].astype(np.float32)\n",
    "for c in train.select_dtypes(include=['int64']).columns[2:]:\n",
    "    train[c]=train[c].astype(np.int8)\n",
    "    test[c]=test[c].astype(np.int8)    \n",
    "\n",
    "print(train.shape, test.shape)"
   ]
  },
  {
   "cell_type": "code",
   "execution_count": 18,
   "metadata": {
    "collapsed": true
   },
   "outputs": [],
   "source": [
    "def gini(actual, pred, cmpcol = 0, sortcol = 1):\n",
    "    assert( len(actual) == len(pred) )\n",
    "    all = np.asarray(np.c_[ actual, pred, np.arange(len(actual)) ], dtype=np.float)\n",
    "    all = all[ np.lexsort((all[:,2], -1*all[:,1])) ]\n",
    "    totalLosses = all[:,0].sum()\n",
    "    giniSum = all[:,0].cumsum().sum() / totalLosses\n",
    "\n",
    "    giniSum -= (len(actual) + 1) / 2.\n",
    "    return giniSum / len(actual)\n",
    " \n",
    "def gini_normalized(a, p):\n",
    "    return gini(a, p) / gini(a, a)\n",
    "\n",
    "def gini_xgb(preds, dtrain):\n",
    "    labels = dtrain.get_label()\n",
    "    gini_score = gini_normalized(labels, preds)\n",
    "    return [('gini', gini_score)]\n",
    "\n",
    "def gini_lgb(preds, dtrain):\n",
    "    y = list(dtrain.get_label())\n",
    "    score = gini(y, preds) / gini(y, y)\n",
    "    return 'gini', score, True"
   ]
  },
  {
   "cell_type": "code",
   "execution_count": 14,
   "metadata": {
    "collapsed": true
   },
   "outputs": [],
   "source": [
    "# Set xgboost parameters\n",
    "params = {}\n",
    "params['eta'] = 0.02 #0.02\n",
    "params['max_depth'] = 4 # 4\n",
    "params['subsample'] = 0.9\n",
    "params['colsample_bytree'] = 0.9\n",
    "params['silent'] = True\n",
    "params['objective'] = 'binary:logistic'\n",
    "params['eval_metric'] = 'auc'\n",
    "params['silent'] = True\n",
    "params['seed']: 6\n",
    "#'maximize':True\n",
    "\n",
    "#'eta': 0.09, 'max_depth': 5"
   ]
  },
  {
   "cell_type": "code",
   "execution_count": 15,
   "metadata": {},
   "outputs": [
    {
     "name": "stdout",
     "output_type": "stream",
     "text": [
      " xgb kfold: 1  of  5 : \n",
      "[0]\ttrain-gini:0.170386\tvalid-gini:0.168183\n",
      "Multiple eval metrics have been passed: 'valid-gini' will be used for early stopping.\n",
      "\n",
      "Will train until valid-gini hasn't improved in 100 rounds.\n",
      "[100]\ttrain-gini:0.243891\tvalid-gini:0.23553\n",
      "[200]\ttrain-gini:0.272816\tvalid-gini:0.253321\n",
      "[300]\ttrain-gini:0.293187\tvalid-gini:0.265738\n",
      "[400]\ttrain-gini:0.306891\tvalid-gini:0.271411\n",
      "[500]\ttrain-gini:0.317439\tvalid-gini:0.274709\n",
      "[600]\ttrain-gini:0.327346\tvalid-gini:0.276579\n",
      "[700]\ttrain-gini:0.335869\tvalid-gini:0.276887\n",
      "[800]\ttrain-gini:0.344163\tvalid-gini:0.276829\n",
      "Stopping. Best iteration:\n",
      "[738]\ttrain-gini:0.339176\tvalid-gini:0.277165\n",
      "\n",
      " xgb kfold: 2  of  5 : \n",
      "[0]\ttrain-gini:0.164558\tvalid-gini:0.165263\n",
      "Multiple eval metrics have been passed: 'valid-gini' will be used for early stopping.\n",
      "\n",
      "Will train until valid-gini hasn't improved in 100 rounds.\n",
      "[100]\ttrain-gini:0.242458\tvalid-gini:0.224634\n",
      "[200]\ttrain-gini:0.269847\tvalid-gini:0.250713\n",
      "[300]\ttrain-gini:0.291972\tvalid-gini:0.266811\n",
      "[400]\ttrain-gini:0.306607\tvalid-gini:0.273182\n",
      "[500]\ttrain-gini:0.317614\tvalid-gini:0.27585\n",
      "[600]\ttrain-gini:0.328019\tvalid-gini:0.27717\n",
      "[700]\ttrain-gini:0.336848\tvalid-gini:0.277297\n",
      "[800]\ttrain-gini:0.345254\tvalid-gini:0.277491\n",
      "Stopping. Best iteration:\n",
      "[775]\ttrain-gini:0.343162\tvalid-gini:0.277611\n",
      "\n",
      " xgb kfold: 3  of  5 : \n",
      "[0]\ttrain-gini:0.172299\tvalid-gini:0.166493\n",
      "Multiple eval metrics have been passed: 'valid-gini' will be used for early stopping.\n",
      "\n",
      "Will train until valid-gini hasn't improved in 100 rounds.\n",
      "[100]\ttrain-gini:0.239838\tvalid-gini:0.237317\n",
      "[200]\ttrain-gini:0.272469\tvalid-gini:0.259886\n",
      "[300]\ttrain-gini:0.292716\tvalid-gini:0.271676\n",
      "[400]\ttrain-gini:0.305966\tvalid-gini:0.276974\n",
      "[500]\ttrain-gini:0.317554\tvalid-gini:0.280027\n",
      "[600]\ttrain-gini:0.327234\tvalid-gini:0.281839\n",
      "[700]\ttrain-gini:0.335845\tvalid-gini:0.281953\n",
      "Stopping. Best iteration:\n",
      "[649]\ttrain-gini:0.331494\tvalid-gini:0.28222\n",
      "\n",
      " xgb kfold: 4  of  5 : \n",
      "[0]\ttrain-gini:0.186927\tvalid-gini:0.173553\n",
      "Multiple eval metrics have been passed: 'valid-gini' will be used for early stopping.\n",
      "\n",
      "Will train until valid-gini hasn't improved in 100 rounds.\n",
      "[100]\ttrain-gini:0.242629\tvalid-gini:0.232346\n",
      "[200]\ttrain-gini:0.268362\tvalid-gini:0.25433\n",
      "[300]\ttrain-gini:0.290837\tvalid-gini:0.27111\n",
      "[400]\ttrain-gini:0.305082\tvalid-gini:0.278236\n",
      "[500]\ttrain-gini:0.316139\tvalid-gini:0.281993\n",
      "[600]\ttrain-gini:0.325414\tvalid-gini:0.283676\n",
      "[700]\ttrain-gini:0.33294\tvalid-gini:0.284403\n",
      "[800]\ttrain-gini:0.340516\tvalid-gini:0.28491\n",
      "[900]\ttrain-gini:0.347619\tvalid-gini:0.285314\n",
      "[1000]\ttrain-gini:0.354901\tvalid-gini:0.285481\n",
      "[1100]\ttrain-gini:0.362088\tvalid-gini:0.285665\n",
      "Stopping. Best iteration:\n",
      "[1078]\ttrain-gini:0.36057\tvalid-gini:0.285769\n",
      "\n",
      " xgb kfold: 5  of  5 : \n",
      "[0]\ttrain-gini:0.189681\tvalid-gini:0.175951\n",
      "Multiple eval metrics have been passed: 'valid-gini' will be used for early stopping.\n",
      "\n",
      "Will train until valid-gini hasn't improved in 100 rounds.\n",
      "[100]\ttrain-gini:0.245315\tvalid-gini:0.229303\n",
      "[200]\ttrain-gini:0.273427\tvalid-gini:0.249125\n",
      "[300]\ttrain-gini:0.294427\tvalid-gini:0.261145\n",
      "[400]\ttrain-gini:0.309029\tvalid-gini:0.266252\n",
      "[500]\ttrain-gini:0.32024\tvalid-gini:0.268746\n",
      "[600]\ttrain-gini:0.329446\tvalid-gini:0.269435\n",
      "[700]\ttrain-gini:0.337596\tvalid-gini:0.270067\n",
      "[800]\ttrain-gini:0.345276\tvalid-gini:0.269552\n",
      "Stopping. Best iteration:\n",
      "[706]\ttrain-gini:0.338028\tvalid-gini:0.270166\n",
      "\n"
     ]
    },
    {
     "data": {
      "text/html": [
       "<div>\n",
       "<table border=\"1\" class=\"dataframe\">\n",
       "  <thead>\n",
       "    <tr style=\"text-align: right;\">\n",
       "      <th></th>\n",
       "      <th>id</th>\n",
       "      <th>target</th>\n",
       "    </tr>\n",
       "  </thead>\n",
       "  <tbody>\n",
       "    <tr>\n",
       "      <th>0</th>\n",
       "      <td>0</td>\n",
       "      <td>0.014187</td>\n",
       "    </tr>\n",
       "    <tr>\n",
       "      <th>1</th>\n",
       "      <td>1</td>\n",
       "      <td>0.014751</td>\n",
       "    </tr>\n",
       "  </tbody>\n",
       "</table>\n",
       "</div>"
      ],
      "text/plain": [
       "   id    target\n",
       "0   0  0.014187\n",
       "1   1  0.014751"
      ]
     },
     "execution_count": 15,
     "metadata": {},
     "output_type": "execute_result"
    }
   ],
   "source": [
    "X = train.drop(['id', 'target'], axis=1)\n",
    "features = X.columns\n",
    "X = X.values\n",
    "y = train['target'].values\n",
    "sub=test['id'].to_frame()\n",
    "sub['target']=0\n",
    "\n",
    "nrounds=2000  # need to change to 2000\n",
    "kfold = 5  # need to change to 5\n",
    "\n",
    "skf = StratifiedKFold(n_splits=kfold, random_state=0)\n",
    "\n",
    "for i, (train_index, test_index) in enumerate(skf.split(X, y)):\n",
    "    \n",
    "    print(' xgb kfold: {}  of  {} : '.format(i+1, kfold))\n",
    "    \n",
    "    X_train, X_valid = X[train_index], X[test_index]\n",
    "    y_train, y_valid = y[train_index], y[test_index]\n",
    "    \n",
    "    d_train = xgb.DMatrix(X_train, y_train) \n",
    "    d_valid = xgb.DMatrix(X_valid, y_valid) \n",
    "    \n",
    "    watchlist = [(d_train, 'train'), (d_valid, 'valid')]\n",
    "    \n",
    "    xgb_model = xgb.train(params, d_train, nrounds, watchlist, early_stopping_rounds=100, \n",
    "                          feval=gini_xgb, maximize=True, verbose_eval=100)\n",
    "    \n",
    "    sub['target'] += xgb_model.predict(xgb.DMatrix(test[features].values), \n",
    "                        ntree_limit=xgb_model.best_ntree_limit+50) / (2*kfold)\n",
    "    \n",
    "sub.to_csv('submission_6.csv', index=False, float_format='%.5f')\n",
    "gc.collect()\n",
    "sub.head(2)\n"
   ]
  },
  {
   "cell_type": "code",
   "execution_count": 16,
   "metadata": {},
   "outputs": [
    {
     "data": {
      "text/plain": [
       "0.270166"
      ]
     },
     "execution_count": 16,
     "metadata": {},
     "output_type": "execute_result"
    }
   ],
   "source": [
    "xgb_model.best_score #before 0.276476"
   ]
  },
  {
   "cell_type": "code",
   "execution_count": 19,
   "metadata": {},
   "outputs": [
    {
     "name": "stdout",
     "output_type": "stream",
     "text": [
      " lgb kfold: 1  of  5 : \n",
      "Training until validation scores don't improve for 100 rounds.\n",
      "[100]\tvalid_0's auc: 0.623683\tvalid_0's gini: 0.247365\n",
      "[200]\tvalid_0's auc: 0.624702\tvalid_0's gini: 0.249404\n",
      "[300]\tvalid_0's auc: 0.627926\tvalid_0's gini: 0.255851\n",
      "[400]\tvalid_0's auc: 0.631663\tvalid_0's gini: 0.263327\n",
      "[500]\tvalid_0's auc: 0.634675\tvalid_0's gini: 0.269349\n",
      "[600]\tvalid_0's auc: 0.636344\tvalid_0's gini: 0.272689\n",
      "[700]\tvalid_0's auc: 0.637699\tvalid_0's gini: 0.275397\n",
      "[800]\tvalid_0's auc: 0.638099\tvalid_0's gini: 0.276199\n",
      "[900]\tvalid_0's auc: 0.638584\tvalid_0's gini: 0.277169\n",
      "[1000]\tvalid_0's auc: 0.638592\tvalid_0's gini: 0.277185\n",
      "[1100]\tvalid_0's auc: 0.638722\tvalid_0's gini: 0.277444\n",
      "[1200]\tvalid_0's auc: 0.638742\tvalid_0's gini: 0.277484\n",
      "Early stopping, best iteration is:\n",
      "[1136]\tvalid_0's auc: 0.638879\tvalid_0's gini: 0.277758\n",
      " lgb kfold: 2  of  5 : \n",
      "Training until validation scores don't improve for 100 rounds.\n",
      "[100]\tvalid_0's auc: 0.621713\tvalid_0's gini: 0.243425\n",
      "[200]\tvalid_0's auc: 0.624301\tvalid_0's gini: 0.248601\n",
      "[300]\tvalid_0's auc: 0.627678\tvalid_0's gini: 0.255356\n",
      "[400]\tvalid_0's auc: 0.632506\tvalid_0's gini: 0.265012\n",
      "[500]\tvalid_0's auc: 0.63536\tvalid_0's gini: 0.270719\n",
      "[600]\tvalid_0's auc: 0.636957\tvalid_0's gini: 0.273915\n",
      "[700]\tvalid_0's auc: 0.637915\tvalid_0's gini: 0.27583\n",
      "[800]\tvalid_0's auc: 0.638622\tvalid_0's gini: 0.277245\n",
      "[900]\tvalid_0's auc: 0.638575\tvalid_0's gini: 0.277151\n",
      "Early stopping, best iteration is:\n",
      "[841]\tvalid_0's auc: 0.638692\tvalid_0's gini: 0.277385\n",
      " lgb kfold: 3  of  5 : \n",
      "Training until validation scores don't improve for 100 rounds.\n",
      "[100]\tvalid_0's auc: 0.625773\tvalid_0's gini: 0.251544\n",
      "[200]\tvalid_0's auc: 0.627959\tvalid_0's gini: 0.255918\n",
      "[300]\tvalid_0's auc: 0.631289\tvalid_0's gini: 0.262578\n",
      "[400]\tvalid_0's auc: 0.634259\tvalid_0's gini: 0.268518\n",
      "[500]\tvalid_0's auc: 0.637198\tvalid_0's gini: 0.274397\n",
      "[600]\tvalid_0's auc: 0.639637\tvalid_0's gini: 0.279275\n",
      "[700]\tvalid_0's auc: 0.640864\tvalid_0's gini: 0.281729\n",
      "[800]\tvalid_0's auc: 0.64142\tvalid_0's gini: 0.28284\n",
      "[900]\tvalid_0's auc: 0.641924\tvalid_0's gini: 0.283849\n",
      "[1000]\tvalid_0's auc: 0.642172\tvalid_0's gini: 0.284344\n",
      "[1100]\tvalid_0's auc: 0.642288\tvalid_0's gini: 0.284575\n",
      "Early stopping, best iteration is:\n",
      "[1037]\tvalid_0's auc: 0.642428\tvalid_0's gini: 0.284856\n",
      " lgb kfold: 4  of  5 : \n",
      "Training until validation scores don't improve for 100 rounds.\n",
      "[100]\tvalid_0's auc: 0.624013\tvalid_0's gini: 0.248024\n",
      "[200]\tvalid_0's auc: 0.625997\tvalid_0's gini: 0.251993\n",
      "[300]\tvalid_0's auc: 0.630062\tvalid_0's gini: 0.260123\n",
      "[400]\tvalid_0's auc: 0.633541\tvalid_0's gini: 0.267082\n",
      "[500]\tvalid_0's auc: 0.637011\tvalid_0's gini: 0.274022\n",
      "[600]\tvalid_0's auc: 0.639181\tvalid_0's gini: 0.278362\n",
      "[700]\tvalid_0's auc: 0.640547\tvalid_0's gini: 0.281095\n",
      "[800]\tvalid_0's auc: 0.641401\tvalid_0's gini: 0.282802\n",
      "[900]\tvalid_0's auc: 0.641808\tvalid_0's gini: 0.283615\n",
      "[1000]\tvalid_0's auc: 0.641903\tvalid_0's gini: 0.283806\n",
      "[1100]\tvalid_0's auc: 0.642167\tvalid_0's gini: 0.284335\n",
      "[1200]\tvalid_0's auc: 0.642292\tvalid_0's gini: 0.284584\n",
      "[1300]\tvalid_0's auc: 0.64244\tvalid_0's gini: 0.284881\n",
      "[1400]\tvalid_0's auc: 0.642563\tvalid_0's gini: 0.285126\n",
      "[1500]\tvalid_0's auc: 0.642558\tvalid_0's gini: 0.285116\n",
      "[1600]\tvalid_0's auc: 0.642614\tvalid_0's gini: 0.285228\n",
      "Early stopping, best iteration is:\n",
      "[1537]\tvalid_0's auc: 0.642716\tvalid_0's gini: 0.285432\n",
      " lgb kfold: 5  of  5 : \n",
      "Training until validation scores don't improve for 100 rounds.\n",
      "[100]\tvalid_0's auc: 0.620748\tvalid_0's gini: 0.241502\n",
      "[200]\tvalid_0's auc: 0.622406\tvalid_0's gini: 0.244814\n",
      "[300]\tvalid_0's auc: 0.625173\tvalid_0's gini: 0.250346\n",
      "[400]\tvalid_0's auc: 0.628186\tvalid_0's gini: 0.256372\n",
      "[500]\tvalid_0's auc: 0.631694\tvalid_0's gini: 0.263388\n",
      "[600]\tvalid_0's auc: 0.633728\tvalid_0's gini: 0.267456\n",
      "[700]\tvalid_0's auc: 0.634811\tvalid_0's gini: 0.269622\n",
      "[800]\tvalid_0's auc: 0.635159\tvalid_0's gini: 0.270318\n",
      "[900]\tvalid_0's auc: 0.635385\tvalid_0's gini: 0.27077\n",
      "[1000]\tvalid_0's auc: 0.635575\tvalid_0's gini: 0.271149\n",
      "Early stopping, best iteration is:\n",
      "[948]\tvalid_0's auc: 0.635699\tvalid_0's gini: 0.271398\n"
     ]
    },
    {
     "data": {
      "text/html": [
       "<div>\n",
       "<table border=\"1\" class=\"dataframe\">\n",
       "  <thead>\n",
       "    <tr style=\"text-align: right;\">\n",
       "      <th></th>\n",
       "      <th>id</th>\n",
       "      <th>target</th>\n",
       "    </tr>\n",
       "  </thead>\n",
       "  <tbody>\n",
       "    <tr>\n",
       "      <th>0</th>\n",
       "      <td>0</td>\n",
       "      <td>0.028089</td>\n",
       "    </tr>\n",
       "    <tr>\n",
       "      <th>1</th>\n",
       "      <td>1</td>\n",
       "      <td>0.029611</td>\n",
       "    </tr>\n",
       "  </tbody>\n",
       "</table>\n",
       "</div>"
      ],
      "text/plain": [
       "   id    target\n",
       "0   0  0.028089\n",
       "1   1  0.029611"
      ]
     },
     "execution_count": 19,
     "metadata": {},
     "output_type": "execute_result"
    }
   ],
   "source": [
    "import lightgbm as lgb\n",
    "\n",
    "params = {'metric': 'auc', \n",
    "          'learning_rate' : 0.01, \n",
    "          'max_depth':10, \n",
    "          'max_bin':10,  \n",
    "          'objective': 'binary', \n",
    "          'feature_fraction': 0.8,\n",
    "          'bagging_fraction':0.9,\n",
    "          'bagging_freq':10, \n",
    "          'min_data': 500}\n",
    "\n",
    "\n",
    "skf = StratifiedKFold(n_splits=kfold, random_state=1)\n",
    "for i, (train_index, test_index) in enumerate(skf.split(X, y)):\n",
    "    print(' lgb kfold: {}  of  {} : '.format(i+1, kfold))\n",
    "    X_train, X_eval = X[train_index], X[test_index]\n",
    "    y_train, y_eval = y[train_index], y[test_index]\n",
    "    lgb_model = lgb.train(params, lgb.Dataset(X_train, label=y_train), nrounds, \n",
    "                  lgb.Dataset(X_eval, label=y_eval), verbose_eval=100, \n",
    "                  feval=gini_lgb, early_stopping_rounds=100)\n",
    "    sub['target'] += lgb_model.predict(test[features].values, \n",
    "                        num_iteration=lgb_model.best_iteration) / (2*kfold)\n",
    "    \n",
    "sub.to_csv('sub10.csv', index=False, float_format='%.5f') \n",
    "gc.collect()\n",
    "sub.head(2)"
   ]
  },
  {
   "cell_type": "code",
   "execution_count": 23,
   "metadata": {},
   "outputs": [
    {
     "data": {
      "text/plain": [
       "defaultdict(dict,\n",
       "            {'valid_0': {'auc': 0.63569906343042648,\n",
       "              'gini': 0.27139812686085296}})"
      ]
     },
     "execution_count": 23,
     "metadata": {},
     "output_type": "execute_result"
    }
   ],
   "source": [
    "lgb_model.best_score"
   ]
  },
  {
   "cell_type": "markdown",
   "metadata": {},
   "source": [
    "https://www.kaggle.com/rshally/porto-xgb-lgb-kfold-lb-0-282"
   ]
  }
 ],
 "metadata": {
  "kernelspec": {
   "display_name": "Python 3",
   "language": "python",
   "name": "python3"
  },
  "language_info": {
   "codemirror_mode": {
    "name": "ipython",
    "version": 3
   },
   "file_extension": ".py",
   "mimetype": "text/x-python",
   "name": "python",
   "nbconvert_exporter": "python",
   "pygments_lexer": "ipython3",
   "version": "3.6.2"
  }
 },
 "nbformat": 4,
 "nbformat_minor": 2
}
