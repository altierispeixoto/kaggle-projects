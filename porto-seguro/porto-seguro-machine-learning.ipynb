{
 "cells": [
  {
   "cell_type": "markdown",
   "metadata": {},
   "source": [
    "## Machine Learning"
   ]
  },
  {
   "cell_type": "code",
   "execution_count": 1,
   "metadata": {},
   "outputs": [
    {
     "name": "stderr",
     "output_type": "stream",
     "text": [
      "/opt/conda/lib/python3.6/site-packages/sklearn/cross_validation.py:44: DeprecationWarning: This module was deprecated in version 0.18 in favor of the model_selection module into which all the refactored classes and functions are moved. Also note that the interface of the new CV iterators are different from that of this module. This module will be removed in 0.20.\n",
      "  \"This module will be removed in 0.20.\", DeprecationWarning)\n"
     ]
    }
   ],
   "source": [
    "import pandas as pd\n",
    "import numpy as np\n",
    "import xgboost as xgb\n",
    "from sklearn.model_selection import StratifiedKFold\n",
    "import gc\n"
   ]
  },
  {
   "cell_type": "code",
   "execution_count": 2,
   "metadata": {},
   "outputs": [
    {
     "name": "stdout",
     "output_type": "stream",
     "text": [
      "loading files...\n",
      "files loaded...\n"
     ]
    }
   ],
   "source": [
    "print('loading files...')\n",
    "train = pd.read_csv('../../data/train_prepared.csv', na_values=-1) \n",
    "test = pd.read_csv('../../data/test.csv', na_values=-1)\n",
    "\n",
    "print('files loaded...')\n"
   ]
  },
  {
   "cell_type": "code",
   "execution_count": 3,
   "metadata": {},
   "outputs": [
    {
     "name": "stdout",
     "output_type": "stream",
     "text": [
      "(595212, 37) (892816, 36)\n"
     ]
    }
   ],
   "source": [
    "test.drop(['ps_car_03_cat', 'ps_car_05_cat'], inplace=True, axis=1)\n",
    "\n",
    "col_to_drop = train.columns[train.columns.str.startswith('ps_calc_')]\n",
    "train = train.drop(col_to_drop, axis=1)  \n",
    "test = test.drop(col_to_drop, axis=1)  \n",
    "\n",
    "for c in train.select_dtypes(include=['float64']).columns:\n",
    "    train[c]=train[c].astype(np.float32)\n",
    "    test[c]=test[c].astype(np.float32)\n",
    "for c in train.select_dtypes(include=['int64']).columns[2:]:\n",
    "    train[c]=train[c].astype(np.int8)\n",
    "    test[c]=test[c].astype(np.int8)    \n",
    "\n",
    "print(train.shape, test.shape)"
   ]
  },
  {
   "cell_type": "code",
   "execution_count": 4,
   "metadata": {
    "collapsed": true
   },
   "outputs": [],
   "source": [
    "def gini(actual, pred, cmpcol = 0, sortcol = 1):\n",
    "    assert( len(actual) == len(pred) )\n",
    "    all = np.asarray(np.c_[ actual, pred, np.arange(len(actual)) ], dtype=np.float)\n",
    "    all = all[ np.lexsort((all[:,2], -1*all[:,1])) ]\n",
    "    totalLosses = all[:,0].sum()\n",
    "    giniSum = all[:,0].cumsum().sum() / totalLosses\n",
    "\n",
    "    giniSum -= (len(actual) + 1) / 2.\n",
    "    return giniSum / len(actual)\n",
    " \n",
    "def gini_normalized(a, p):\n",
    "    return gini(a, p) / gini(a, a)\n",
    "\n",
    "def gini_xgb(preds, dtrain):\n",
    "    labels = dtrain.get_label()\n",
    "    gini_score = gini_normalized(labels, preds)\n",
    "    return [('gini', gini_score)]"
   ]
  },
  {
   "cell_type": "code",
   "execution_count": 5,
   "metadata": {
    "collapsed": true
   },
   "outputs": [],
   "source": [
    "# Set xgboost parameters\n",
    "params = {}\n",
    "params['eta'] = 0.02\n",
    "params['max_depth'] = 4\n",
    "params['subsample'] = 0.9\n",
    "params['colsample_bytree'] = 0.9\n",
    "params['silent'] = True\n",
    "params['objective'] = 'binary:logistic'\n",
    "params['eval_metric'] = 'auc'\n",
    "params['silent'] = True\n",
    "#'maximize':True"
   ]
  },
  {
   "cell_type": "code",
   "execution_count": 6,
   "metadata": {},
   "outputs": [
    {
     "name": "stdout",
     "output_type": "stream",
     "text": [
      " xgb kfold: 1  of  5 : \n",
      "[0]\ttrain-gini:0.188938\tvalid-gini:0.186657\n",
      "Multiple eval metrics have been passed: 'valid-gini' will be used for early stopping.\n",
      "\n",
      "Will train until valid-gini hasn't improved in 100 rounds.\n",
      "[100]\ttrain-gini:0.245822\tvalid-gini:0.240075\n",
      "[200]\ttrain-gini:0.27332\tvalid-gini:0.259674\n",
      "[300]\ttrain-gini:0.295718\tvalid-gini:0.270722\n",
      "[400]\ttrain-gini:0.310408\tvalid-gini:0.276855\n",
      "[500]\ttrain-gini:0.320485\tvalid-gini:0.279458\n",
      "[600]\ttrain-gini:0.328776\tvalid-gini:0.281145\n",
      "[700]\ttrain-gini:0.335922\tvalid-gini:0.281638\n",
      "[800]\ttrain-gini:0.342056\tvalid-gini:0.281886\n",
      "[900]\ttrain-gini:0.348515\tvalid-gini:0.282356\n",
      "[1000]\ttrain-gini:0.354208\tvalid-gini:0.282383\n",
      "[1100]\ttrain-gini:0.35993\tvalid-gini:0.282117\n",
      "Stopping. Best iteration:\n",
      "[1020]\ttrain-gini:0.35561\tvalid-gini:0.282691\n",
      "\n",
      " xgb kfold: 2  of  5 : \n",
      "[0]\ttrain-gini:0.188435\tvalid-gini:0.175613\n",
      "Multiple eval metrics have been passed: 'valid-gini' will be used for early stopping.\n",
      "\n",
      "Will train until valid-gini hasn't improved in 100 rounds.\n",
      "[100]\ttrain-gini:0.247944\tvalid-gini:0.233089\n",
      "[200]\ttrain-gini:0.272703\tvalid-gini:0.254139\n",
      "[300]\ttrain-gini:0.295636\tvalid-gini:0.269748\n",
      "[400]\ttrain-gini:0.310061\tvalid-gini:0.277022\n",
      "[500]\ttrain-gini:0.32028\tvalid-gini:0.280756\n",
      "[600]\ttrain-gini:0.328192\tvalid-gini:0.282872\n",
      "[700]\ttrain-gini:0.335293\tvalid-gini:0.284592\n",
      "[800]\ttrain-gini:0.341917\tvalid-gini:0.285505\n",
      "[900]\ttrain-gini:0.348238\tvalid-gini:0.285751\n",
      "[1000]\ttrain-gini:0.35442\tvalid-gini:0.285575\n",
      "Stopping. Best iteration:\n",
      "[953]\ttrain-gini:0.351455\tvalid-gini:0.285962\n",
      "\n",
      " xgb kfold: 3  of  5 : \n",
      "[0]\ttrain-gini:0.183397\tvalid-gini:0.187656\n",
      "Multiple eval metrics have been passed: 'valid-gini' will be used for early stopping.\n",
      "\n",
      "Will train until valid-gini hasn't improved in 100 rounds.\n",
      "[100]\ttrain-gini:0.247292\tvalid-gini:0.242717\n",
      "[200]\ttrain-gini:0.274855\tvalid-gini:0.259371\n",
      "[300]\ttrain-gini:0.296094\tvalid-gini:0.270321\n",
      "[400]\ttrain-gini:0.310276\tvalid-gini:0.276476\n",
      "[500]\ttrain-gini:0.320413\tvalid-gini:0.279636\n",
      "[600]\ttrain-gini:0.328486\tvalid-gini:0.280876\n",
      "[700]\ttrain-gini:0.336083\tvalid-gini:0.281411\n",
      "[800]\ttrain-gini:0.342465\tvalid-gini:0.282092\n",
      "[900]\ttrain-gini:0.348801\tvalid-gini:0.282174\n",
      "Stopping. Best iteration:\n",
      "[872]\ttrain-gini:0.347137\tvalid-gini:0.282285\n",
      "\n",
      " xgb kfold: 4  of  5 : \n",
      "[0]\ttrain-gini:0.202726\tvalid-gini:0.188245\n",
      "Multiple eval metrics have been passed: 'valid-gini' will be used for early stopping.\n",
      "\n",
      "Will train until valid-gini hasn't improved in 100 rounds.\n",
      "[100]\ttrain-gini:0.243326\tvalid-gini:0.228155\n",
      "[200]\ttrain-gini:0.271307\tvalid-gini:0.254191\n",
      "[300]\ttrain-gini:0.293387\tvalid-gini:0.270458\n",
      "[400]\ttrain-gini:0.307908\tvalid-gini:0.279646\n",
      "[500]\ttrain-gini:0.318115\tvalid-gini:0.284842\n",
      "[600]\ttrain-gini:0.326636\tvalid-gini:0.287102\n",
      "[700]\ttrain-gini:0.334263\tvalid-gini:0.288548\n",
      "[800]\ttrain-gini:0.340755\tvalid-gini:0.289635\n",
      "[900]\ttrain-gini:0.346561\tvalid-gini:0.290241\n",
      "[1000]\ttrain-gini:0.352025\tvalid-gini:0.290612\n",
      "[1100]\ttrain-gini:0.35812\tvalid-gini:0.29114\n",
      "[1200]\ttrain-gini:0.363647\tvalid-gini:0.29137\n",
      "[1300]\ttrain-gini:0.369152\tvalid-gini:0.291741\n",
      "[1400]\ttrain-gini:0.373487\tvalid-gini:0.291431\n",
      "Stopping. Best iteration:\n",
      "[1339]\ttrain-gini:0.370808\tvalid-gini:0.291828\n",
      "\n",
      " xgb kfold: 5  of  5 : \n",
      "[0]\ttrain-gini:0.181079\tvalid-gini:0.174198\n",
      "Multiple eval metrics have been passed: 'valid-gini' will be used for early stopping.\n",
      "\n",
      "Will train until valid-gini hasn't improved in 100 rounds.\n",
      "[100]\ttrain-gini:0.246959\tvalid-gini:0.232814\n",
      "[200]\ttrain-gini:0.274261\tvalid-gini:0.250626\n",
      "[300]\ttrain-gini:0.295974\tvalid-gini:0.262647\n",
      "[400]\ttrain-gini:0.311019\tvalid-gini:0.269734\n",
      "[500]\ttrain-gini:0.321598\tvalid-gini:0.272576\n",
      "[600]\ttrain-gini:0.329993\tvalid-gini:0.273523\n",
      "[700]\ttrain-gini:0.337184\tvalid-gini:0.274164\n",
      "[800]\ttrain-gini:0.343813\tvalid-gini:0.274941\n",
      "[900]\ttrain-gini:0.34942\tvalid-gini:0.275336\n",
      "[1000]\ttrain-gini:0.355034\tvalid-gini:0.275607\n",
      "[1100]\ttrain-gini:0.360404\tvalid-gini:0.27581\n",
      "[1200]\ttrain-gini:0.365706\tvalid-gini:0.275787\n",
      "Stopping. Best iteration:\n",
      "[1134]\ttrain-gini:0.362195\tvalid-gini:0.275938\n",
      "\n"
     ]
    },
    {
     "data": {
      "text/html": [
       "<div>\n",
       "<table border=\"1\" class=\"dataframe\">\n",
       "  <thead>\n",
       "    <tr style=\"text-align: right;\">\n",
       "      <th></th>\n",
       "      <th>id</th>\n",
       "      <th>target</th>\n",
       "    </tr>\n",
       "  </thead>\n",
       "  <tbody>\n",
       "    <tr>\n",
       "      <th>0</th>\n",
       "      <td>0</td>\n",
       "      <td>0.014010</td>\n",
       "    </tr>\n",
       "    <tr>\n",
       "      <th>1</th>\n",
       "      <td>1</td>\n",
       "      <td>0.013569</td>\n",
       "    </tr>\n",
       "  </tbody>\n",
       "</table>\n",
       "</div>"
      ],
      "text/plain": [
       "   id    target\n",
       "0   0  0.014010\n",
       "1   1  0.013569"
      ]
     },
     "execution_count": 6,
     "metadata": {},
     "output_type": "execute_result"
    }
   ],
   "source": [
    "X = train.drop(['id', 'target'], axis=1)\n",
    "features = X.columns\n",
    "X = X.values\n",
    "y = train['target'].values\n",
    "sub=test['id'].to_frame()\n",
    "sub['target']=0\n",
    "\n",
    "nrounds=2000  # need to change to 2000\n",
    "kfold = 5  # need to change to 5\n",
    "skf = StratifiedKFold(n_splits=kfold, random_state=0)\n",
    "for i, (train_index, test_index) in enumerate(skf.split(X, y)):\n",
    "    print(' xgb kfold: {}  of  {} : '.format(i+1, kfold))\n",
    "    X_train, X_valid = X[train_index], X[test_index]\n",
    "    y_train, y_valid = y[train_index], y[test_index]\n",
    "    d_train = xgb.DMatrix(X_train, y_train) \n",
    "    d_valid = xgb.DMatrix(X_valid, y_valid) \n",
    "    watchlist = [(d_train, 'train'), (d_valid, 'valid')]\n",
    "    \n",
    "    xgb_model = xgb.train(params, d_train, nrounds, watchlist, early_stopping_rounds=100, \n",
    "                          feval=gini_xgb, maximize=True, verbose_eval=100)\n",
    "    \n",
    "    sub['target'] += xgb_model.predict(xgb.DMatrix(test[features].values), \n",
    "                        ntree_limit=xgb_model.best_ntree_limit+50) / (2*kfold)\n",
    "    \n",
    "sub.to_csv('submission_6.csv', index=False, float_format='%.5f')\n",
    "gc.collect()\n",
    "sub.head(2)\n"
   ]
  },
  {
   "cell_type": "code",
   "execution_count": 7,
   "metadata": {},
   "outputs": [
    {
     "data": {
      "text/plain": [
       "0.275938"
      ]
     },
     "execution_count": 7,
     "metadata": {},
     "output_type": "execute_result"
    }
   ],
   "source": [
    "xgb_model.best_score #before 0.276938"
   ]
  }
 ],
 "metadata": {
  "kernelspec": {
   "display_name": "Python 3",
   "language": "python",
   "name": "python3"
  },
  "language_info": {
   "codemirror_mode": {
    "name": "ipython",
    "version": 3
   },
   "file_extension": ".py",
   "mimetype": "text/x-python",
   "name": "python",
   "nbconvert_exporter": "python",
   "pygments_lexer": "ipython3",
   "version": "3.6.2"
  }
 },
 "nbformat": 4,
 "nbformat_minor": 2
}
